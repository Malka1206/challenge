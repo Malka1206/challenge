{
 "cells": [
  {
   "cell_type": "code",
   "execution_count": 7,
   "id": "de90572c",
   "metadata": {},
   "outputs": [
    {
     "name": "stdout",
     "output_type": "stream",
     "text": [
      "insert a number :444\n"
     ]
    },
    {
     "data": {
      "text/plain": [
       "True"
      ]
     },
     "execution_count": 7,
     "metadata": {},
     "output_type": "execute_result"
    }
   ],
   "source": [
    "#challenge1\n",
    "x=int(input(\"insert a number :\"))\n",
    "def is_repdigit(x):\n",
    "    if x<0 :\n",
    "        a=False\n",
    "    else :\n",
    "        x=str(x)\n",
    "        be=x[0]\n",
    "        for i in x :\n",
    "            if i==be :\n",
    "                a=True\n",
    "            elif i != be : \n",
    "                a=False\n",
    "            be=i\n",
    "    return a\n",
    "a=is_repdigit(x)\n",
    "a"
   ]
  },
  {
   "cell_type": "code",
   "execution_count": 37,
   "id": "ee0c7a89",
   "metadata": {},
   "outputs": [
    {
     "name": "stdout",
     "output_type": "stream",
     "text": [
      "insert your list lengh :5\n",
      "insert a value : a\n",
      "insert a value : a\n",
      "insert a value : r\n",
      "insert a value : t\n",
      "insert a value : r\n",
      "['a', 'a', 'r', 't', 'r']\n",
      "{'r', 'a', 't'}\n"
     ]
    },
    {
     "data": {
      "text/plain": [
       "{'r': 2, 'a': 2, 't': 1}"
      ]
     },
     "execution_count": 37,
     "metadata": {},
     "output_type": "execute_result"
    }
   ],
   "source": [
    "#challenge2\n",
    "x=int(input(\"insert your list lengh :\"))\n",
    "while x<=0:\n",
    "    x=int(input(\"insert your list lengh :\"))\n",
    "list_input=[]\n",
    "for i in range(x):\n",
    "    s=input(\"insert a value : \")\n",
    "    list_input.append(s)\n",
    "print(list_input)\n",
    "def get_indices(list1):\n",
    "    dict1={}\n",
    "    set1=set(list1)\n",
    "    print(set1)\n",
    "    for s in set1 :\n",
    "        a=0\n",
    "        for l in list1 :\n",
    "            if l==s :\n",
    "                a=a+1\n",
    "                dict1[l]=a\n",
    "    return dict1\n",
    "a=get_indices(list_input)\n",
    "a"
   ]
  },
  {
   "cell_type": "code",
   "execution_count": 22,
   "id": "34c2b90c",
   "metadata": {},
   "outputs": [
    {
     "name": "stdout",
     "output_type": "stream",
     "text": [
      "insert a charachter:malek\n"
     ]
    },
    {
     "data": {
      "text/plain": [
       "['m', 'ma', 'mal', 'male', 'malek', 'male', 'mal', 'ma', 'm']"
      ]
     },
     "execution_count": 22,
     "metadata": {},
     "output_type": "execute_result"
    }
   ],
   "source": [
    "#challenge3\n",
    "string_input=input(\"insert a charachter:\")\n",
    "def construct_deconstruct(string1):\n",
    "    element=\"\"\n",
    "    list1=[]\n",
    "    for i in string1 :\n",
    "        element=element+i\n",
    "        list1.append(element)\n",
    "    if element==string1 :\n",
    "        for x in range (1,len(string1)):\n",
    "            element1=\"\"\n",
    "            for f in range (0,len(string1)-x):\n",
    "                element1=element1+string1[f]\n",
    "            list1.append(element1)\n",
    "    return list1\n",
    "a=construct_deconstruct(string_input)\n",
    "a\n",
    "    "
   ]
  },
  {
   "cell_type": "code",
   "execution_count": 29,
   "id": "95ae298d",
   "metadata": {},
   "outputs": [
    {
     "name": "stdout",
     "output_type": "stream",
     "text": [
      "insert a value :-521\n"
     ]
    },
    {
     "data": {
      "text/plain": [
       "-10"
      ]
     },
     "execution_count": 29,
     "metadata": {},
     "output_type": "execute_result"
    }
   ],
   "source": [
    "#challenge4\n",
    "value_input=int(input(\"insert a value :\"))\n",
    "\n",
    "def mystery_func(value1):\n",
    "    s=str(value1)\n",
    "    total=1\n",
    "    if value1<0:\n",
    "        f=\"\"\n",
    "        for i in range (1,len(s)):\n",
    "            f=f+s[i]\n",
    "        s=f\n",
    "        total=-1\n",
    "    for i in s :\n",
    "        mult=int(i)\n",
    "        total=total*mult\n",
    "    return total\n",
    "a=mystery_func(value_input)\n",
    "a"
   ]
  },
  {
   "cell_type": "code",
   "execution_count": 35,
   "id": "4b389f31",
   "metadata": {},
   "outputs": [
    {
     "name": "stdout",
     "output_type": "stream",
     "text": [
      "insert your list lengh :5\n",
      "insert a value : a\n",
      "insert a value : 3\n",
      "insert a value : 0\n",
      "insert a value : 0\n",
      "insert a value : d\n",
      "['a', '3', '0', '0', 'd']\n",
      "a\n",
      "3\n",
      "0\n",
      "d\n",
      "0\n"
     ]
    },
    {
     "data": {
      "text/plain": [
       "['a', '3', 'd', '0', '0']"
      ]
     },
     "execution_count": 35,
     "metadata": {},
     "output_type": "execute_result"
    }
   ],
   "source": [
    "#challenge5\n",
    "x=int(input(\"insert your list lengh :\"))\n",
    "while x<=0:\n",
    "    x=int(input(\"insert your list lengh :\"))\n",
    "list_input=[]\n",
    "for i in range(x):\n",
    "    s=input(\"insert a value : \")\n",
    "    list_input.append(s)\n",
    "print(list_input)\n",
    "def move_zeros(list1):\n",
    "    for i in list1 :\n",
    "        if i==0 or i==\"0\" :\n",
    "            list1.remove(i)\n",
    "            list1.append(i)\n",
    "    return list1\n",
    "a=move_zeros(list_input)\n",
    "a"
   ]
  },
  {
   "cell_type": "code",
   "execution_count": null,
   "id": "d3c65b7e",
   "metadata": {},
   "outputs": [],
   "source": [
    "8\n"
   ]
  }
 ],
 "metadata": {},
 "nbformat": 4,
 "nbformat_minor": 5
}
